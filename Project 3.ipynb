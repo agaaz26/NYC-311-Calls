{
 "cells": [
  {
   "cell_type": "code",
   "execution_count": 1,
   "id": "3e362c85-e538-40df-a940-a1986ab7972c",
   "metadata": {
    "tags": []
   },
   "outputs": [
    {
     "name": "stdout",
     "output_type": "stream",
     "text": [
      "<class 'pandas.core.frame.DataFrame'>\n",
      "DatetimeIndex: 33780977 entries, 2011-04-06 00:00:00 to 2011-04-06 00:00:00\n",
      "Data columns (total 11 columns):\n",
      " #   Column                  Dtype \n",
      "---  ------                  ----- \n",
      " 0   Unique Key              int64 \n",
      " 1   Agency                  object\n",
      " 2   Agency Name             object\n",
      " 3   Complaint Type          object\n",
      " 4   Descriptor              object\n",
      " 5   Location Type           object\n",
      " 6   Incident Zip            object\n",
      " 7   City                    object\n",
      " 8   Resolution Description  object\n",
      " 9   Borough                 object\n",
      " 10  Open Data Channel Type  object\n",
      "dtypes: int64(1), object(10)\n",
      "memory usage: 3.0+ GB\n"
     ]
    }
   ],
   "source": [
    "import pandas as pd\n",
    "\n",
    "df = pd.read_pickle('shared/Project-3_NYC_311_Calls.pkl')\n",
    "df = df.set_index(pd.DatetimeIndex(df['Created Date']))\n",
    "del df['Created Date']\n",
    "\n",
    "df.info()"
   ]
  },
  {
   "cell_type": "code",
   "execution_count": null,
   "id": "4b176d92-47fd-4541-9f93-c00c2c5c69a2",
   "metadata": {
    "tags": []
   },
   "outputs": [],
   "source": [
    "df.isnull().sum()"
   ]
  },
  {
   "cell_type": "code",
   "execution_count": 2,
   "id": "e86b69fb-c113-4302-842c-a03f79c132ac",
   "metadata": {
    "tags": []
   },
   "outputs": [
    {
     "name": "stdout",
     "output_type": "stream",
     "text": [
      "Memory usage before optimization:\n",
      "10517987169\n",
      "\n",
      "Memory usage after optimization:\n",
      "10517987169\n"
     ]
    }
   ],
   "source": [
    "# Convert to 'category' for columns with limited unique text values\n",
    "for col in ['Agency', 'Agency Name', 'Complaint Type', 'Location Type', 'City', 'Borough', 'Open Data Channel Type']:\n",
    "    df[col] = df[col].astype('category')\n",
    "\n",
    "# Convert 'Incident Zip' to a more appropriate type (if it contains numeric values)\n",
    "df['Incident Zip'] = pd.to_numeric(df['Incident Zip'], errors='coerce', downcast='integer')\n",
    "\n",
    "# Optimizing integer columns\n",
    "df['Unique Key'] = pd.to_numeric(df['Unique Key'], downcast='integer')\n",
    "\n",
    "# Memory usage before and after optimization\n",
    "print(\"Memory usage before optimization:\")\n",
    "print(df.memory_usage(deep=True).sum())\n",
    "print(\"\\nMemory usage after optimization:\")\n",
    "print(df.memory_usage(deep=True).sum())\n"
   ]
  },
  {
   "cell_type": "code",
   "execution_count": null,
   "id": "1d39c923-118b-43e8-aa49-299af8ff2caf",
   "metadata": {
    "tags": []
   },
   "outputs": [],
   "source": [
    "start_date = df.index.min()\n",
    "end_date = df.index.max()\n",
    "\n",
    "print(\"Start Date:\", start_date)\n",
    "print(\"End Date:\", end_date)"
   ]
  },
  {
   "cell_type": "code",
   "execution_count": 3,
   "id": "afd0b7e2-33fc-410c-9403-c631514b2265",
   "metadata": {
    "tags": []
   },
   "outputs": [
    {
     "name": "stdout",
     "output_type": "stream",
     "text": [
      "Average number of daily complaints in 2022: 8684.320547945206\n"
     ]
    }
   ],
   "source": [
    "# Resample to get daily counts\n",
    "daily_counts = df.resample('D')['Unique Key'].count()\n",
    "\n",
    "# Filter for 2022\n",
    "daily_counts_2022 = daily_counts[daily_counts.index.year == 2022]\n",
    "\n",
    "# Calculate the average\n",
    "average_daily_complaints_2022 = daily_counts_2022.mean()\n",
    "\n",
    "print(\"Average number of daily complaints in 2022:\", average_daily_complaints_2022)"
   ]
  },
  {
   "cell_type": "code",
   "execution_count": 4,
   "id": "7a8e8b84-390a-418e-a492-72b835e5340f",
   "metadata": {},
   "outputs": [
    {
     "name": "stdout",
     "output_type": "stream",
     "text": [
      "The maximum number of calls were received on 2020-08-04 with a total of 24415 calls.\n"
     ]
    }
   ],
   "source": [
    "max_complaints_date = daily_counts.idxmax()\n",
    "max_complaints = daily_counts.max()\n",
    "\n",
    "print(f\"The maximum number of calls were received on {max_complaints_date.date()} with a total of {max_complaints} calls.\")"
   ]
  },
  {
   "cell_type": "code",
   "execution_count": 6,
   "id": "37f27574-8b74-4050-8efb-05bc7910f002",
   "metadata": {},
   "outputs": [
    {
     "data": {
      "text/plain": [
       "('Damaged Tree', datetime.date(2020, 8, 4))"
      ]
     },
     "execution_count": 6,
     "metadata": {},
     "output_type": "execute_result"
    }
   ],
   "source": [
    "# Filtering the data for that specific date\n",
    "data_on_max_calls_date = df.loc[max_complaints_date.strftime('%Y-%m-%d')]\n",
    "\n",
    "# Finding the most common complaint type on that date\n",
    "most_common_complaint = data_on_max_calls_date['Complaint Type'].value_counts().idxmax()\n",
    "\n",
    "most_common_complaint, max_complaints_date.date()"
   ]
  },
  {
   "cell_type": "code",
   "execution_count": 8,
   "id": "5d2614f5-6809-447b-8f04-80e93d385270",
   "metadata": {
    "tags": []
   },
   "outputs": [
    {
     "name": "stdout",
     "output_type": "stream",
     "text": [
      "The quietest month historically is August 2023, with the fewest number of calls.\n"
     ]
    }
   ],
   "source": [
    "# Resample the DataFrame to get monthly counts of unique keys\n",
    "monthly_counts = df.resample('M')['Unique Key'].count()\n",
    "\n",
    "# Find the month with the fewest number of calls\n",
    "quietest_month = monthly_counts.idxmin()\n",
    "\n",
    "print(f\"The quietest month historically is {quietest_month.strftime('%B %Y')}, with the fewest number of calls.\")\n"
   ]
  },
  {
   "cell_type": "code",
   "execution_count": 9,
   "id": "d2f258e7-1503-4f5d-ab1d-a2f1cd2bb376",
   "metadata": {
    "tags": []
   },
   "outputs": [
    {
     "name": "stdout",
     "output_type": "stream",
     "text": [
      "The rounded value of the seasonal component on 2020-12-25 is 183.\n"
     ]
    }
   ],
   "source": [
    "import statsmodels.api as sm\n",
    "\n",
    "# Perform ETS decomposition\n",
    "decomposed = sm.tsa.seasonal_decompose(daily_counts, model='additive')\n",
    "\n",
    "# Get the seasonal component\n",
    "seasonal_component = decomposed.seasonal\n",
    "\n",
    "# Find the value of the seasonal component on 2020-12-25\n",
    "seasonal_value_on_2020_12_25 = seasonal_component.loc['2020-12-25']\n",
    "\n",
    "# Print the rounded value\n",
    "rounded_value = round(seasonal_value_on_2020_12_25)\n",
    "print(f\"The rounded value of the seasonal component on 2020-12-25 is {rounded_value}.\")"
   ]
  },
  {
   "cell_type": "code",
   "execution_count": 10,
   "id": "fe42b834-586e-4205-9001-73ae5f43ffb8",
   "metadata": {
    "tags": []
   },
   "outputs": [
    {
     "name": "stdout",
     "output_type": "stream",
     "text": [
      "The autocorrelation of the number of daily calls with a lag of 1 day is 0.7517059728398577.\n"
     ]
    }
   ],
   "source": [
    "autocorrelation_lag_1 = daily_counts.autocorr(lag=1)\n",
    "\n",
    "print(f\"The autocorrelation of the number of daily calls with a lag of 1 day is {autocorrelation_lag_1}.\")"
   ]
  },
  {
   "cell_type": "code",
   "execution_count": 11,
   "id": "ee212ce6-a808-439f-9a4f-36553236cf3c",
   "metadata": {
    "tags": []
   },
   "outputs": [
    {
     "name": "stderr",
     "output_type": "stream",
     "text": [
      "19:50:45 - cmdstanpy - INFO - Chain [1] start processing\n",
      "19:50:46 - cmdstanpy - INFO - Chain [1] done processing\n"
     ]
    },
    {
     "name": "stdout",
     "output_type": "stream",
     "text": [
      "RMSE on the test set is 1231.513760758433.\n"
     ]
    }
   ],
   "source": [
    "from prophet import Prophet\n",
    "from sklearn.metrics import mean_squared_error\n",
    "from math import sqrt\n",
    "\n",
    "# Prepare the data in the format required by Prophet\n",
    "df_prophet = daily_counts.reset_index()\n",
    "df_prophet.columns = ['ds', 'y']\n",
    "\n",
    "# Split the data into training and test sets\n",
    "train = df_prophet.iloc[:-90]\n",
    "test = df_prophet.iloc[-90:]\n",
    "\n",
    "# Initialize and fit the Prophet model\n",
    "model = Prophet()\n",
    "model.fit(train)\n",
    "\n",
    "# Create a dataframe for future predictions\n",
    "future = model.make_future_dataframe(periods=90)\n",
    "\n",
    "# Make predictions\n",
    "forecast = model.predict(future)\n",
    "\n",
    "# Extract predictions corresponding to the test set\n",
    "predictions = forecast.iloc[-90:]['yhat']\n",
    "\n",
    "# Calculate RMSE\n",
    "rmse = sqrt(mean_squared_error(test['y'], predictions))\n",
    "print(f\"RMSE on the test set is {rmse}.\")\n"
   ]
  },
  {
   "cell_type": "code",
   "execution_count": null,
   "id": "81774008-349c-4f05-8097-f125bf7ca55d",
   "metadata": {},
   "outputs": [],
   "source": [
    " "
   ]
  }
 ],
 "metadata": {
  "kernelspec": {
   "display_name": "Python [conda env:mggy8413]",
   "language": "python",
   "name": "conda-env-mggy8413-py"
  },
  "language_info": {
   "codemirror_mode": {
    "name": "ipython",
    "version": 3
   },
   "file_extension": ".py",
   "mimetype": "text/x-python",
   "name": "python",
   "nbconvert_exporter": "python",
   "pygments_lexer": "ipython3",
   "version": "3.10.12"
  }
 },
 "nbformat": 4,
 "nbformat_minor": 5
}
